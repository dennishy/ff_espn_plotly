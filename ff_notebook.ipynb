{
 "cells": [
  {
   "cell_type": "markdown",
   "metadata": {},
   "source": [
    "I've referred to this blog post [https://stmorse.github.io/journal/espn-fantasy-v3.html] and the python package https://github.com/cwendt94/ff-espn-api/blob/master/ff_espn_api/league.py to better understand the undocumented ESPN Fantasy Football API. "
   ]
  },
  {
   "cell_type": "code",
   "execution_count": null,
   "metadata": {},
   "outputs": [],
   "source": [
    "#Edit notebook width\n",
    "from IPython.core.display import display, HTML\n",
    "display(HTML(\"<style>.container { width:100% !important; }</style>\"))"
   ]
  },
  {
   "cell_type": "markdown",
   "metadata": {},
   "source": [
    "To start, each view has been pulled and stored locally as .json files. Let's use json.load() to import the json as a dictionary:"
   ]
  },
  {
   "cell_type": "code",
   "execution_count": null,
   "metadata": {},
   "outputs": [],
   "source": [
    "import json\n",
    "\n",
    "with open('./ff_data/ff_view_mTeam.json') as f:\n",
    "    data_teams = json.load(f)\n",
    "    \n",
    "print(data_teams)"
   ]
  },
  {
   "cell_type": "markdown",
   "metadata": {},
   "source": [
    "There's a lot going on so lets isolate the keys. My first approach was to recursively loop through the JSON to find all of them but it looks like the data is both full of noise and nested structures. Let's  start with a lazy evaluation of the first couple layers:"
   ]
  },
  {
   "cell_type": "code",
   "execution_count": null,
   "metadata": {},
   "outputs": [],
   "source": [
    "#top level keys:\n",
    "l0_keys = data_teams.keys()\n",
    "\n",
    "print(l0_keys)"
   ]
  },
  {
   "cell_type": "markdown",
   "metadata": {},
   "source": [
    "This seems pretty straightforward. Lets write a helper function to evaluate the dicts and keys"
   ]
  },
  {
   "cell_type": "code",
   "execution_count": null,
   "metadata": {},
   "outputs": [],
   "source": [
    "def dict_eval(e_dict,e_key):\n",
    "    #note: e_key is passed as a list of string values\n",
    "    for key in e_key:\n",
    "        if isinstance(e_dict[key], dict):\n",
    "            print('The key: {} stores a dict with the following keys: {}\\n'.format(key, e_dict[key].keys()))\n",
    "        elif isinstance(e_dict[key], list):\n",
    "            print('The key: {} stores the list: {}\\n'.format(key, e_dict[key]))\n",
    "        else:\n",
    "            print('The key: {} has the value of: {}\\n'.format(key, e_dict[key]))"
   ]
  },
  {
   "cell_type": "code",
   "execution_count": null,
   "metadata": {},
   "outputs": [],
   "source": [
    "dict_eval(data_teams, l0_keys)"
   ]
  },
  {
   "cell_type": "markdown",
   "metadata": {},
   "source": [
    "The data we're after looks to be stored in 'teams' and needs some additional parsing. An initial analysis showed that there may be extra attributes depending on what options a team manager has populated so lets get a complete distinct list in one go:"
   ]
  },
  {
   "cell_type": "code",
   "execution_count": null,
   "metadata": {},
   "outputs": [],
   "source": [
    "team_keys = []\n",
    "\n",
    "for x in data_teams['teams']:\n",
    "    for team_key in x.keys():\n",
    "        if team_key not in team_keys:\n",
    "            team_keys.append(team_key)\n",
    "            \n",
    "print(team_keys)"
   ]
  },
  {
   "cell_type": "markdown",
   "metadata": {},
   "source": [
    "Each element in the list data_teams['teams'] represents a team manager in the league and returns a nested dictionary. Lets use the helper function to see what this looks like. Keys are determined per dict to account to prevent key errors:"
   ]
  },
  {
   "cell_type": "code",
   "execution_count": null,
   "metadata": {},
   "outputs": [],
   "source": [
    "for team in data_teams['teams']:\n",
    "    team_keys = team.keys()\n",
    "    dict_eval(team, team_keys)\n",
    "\n",
    "#print(type(data_teams['teams'][0]))\n",
    "#print(data_teams['teams'][0])\n"
   ]
  },
  {
   "cell_type": "markdown",
   "metadata": {},
   "source": [
    "Now we're getting somewhere! Here's what we know so far:"
   ]
  },
  {
   "cell_type": "code",
   "execution_count": null,
   "metadata": {},
   "outputs": [],
   "source": [
    "for team in data_teams['teams']:\n",
    "    team_abbrev = team['abbrev']\n",
    "    team_cur_proj_rank = team['currentProjectedRank']\n",
    "    team_draft_proj_rank = team['draftDayProjectedRank']\n",
    "    team_div_id = team['divisionId']\n",
    "    #team_logo = team['logo'] TODO: error handling for invalid keys\n",
    "    team_points = team['points']\n",
    "    team_points_adj = team['pointsAdjusted'] #val of adjustment points: e.g. 0 is no adjustment"
   ]
  },
  {
   "cell_type": "markdown",
   "metadata": {},
   "source": [
    "We also want to see what values are available for the dicts: record, transactionCounter, and valuesByStat"
   ]
  },
  {
   "cell_type": "code",
   "execution_count": null,
   "metadata": {},
   "outputs": [],
   "source": [
    "eval_keys = ['record', 'transactionCounter', 'valuesByStat']\n",
    "\n",
    "for team in data_teams['teams']:\n",
    "    for key in eval_keys:\n",
    "        sub_key = team[key].keys()\n",
    "        print(key)\n",
    "        dict_eval(team[key], sub_key)\n",
    "    \n",
    "\n",
    "    "
   ]
  },
  {
   "cell_type": "markdown",
   "metadata": {},
   "source": [
    "It looks like we can get high level record and transactions counts. We're not so interested in this for now because we'd like data that is at a lower grain, available in the view 'mMatchup'"
   ]
  },
  {
   "cell_type": "markdown",
   "metadata": {},
   "source": []
  },
  {
   "cell_type": "code",
   "execution_count": null,
   "metadata": {},
   "outputs": [],
   "source": [
    "with open('./ff_data/ff_view_mMatchup.json') as f:\n",
    "    data_matchups = json.load(f)\n",
    "    \n",
    "print(data_matchups)"
   ]
  },
  {
   "cell_type": "markdown",
   "metadata": {},
   "source": [
    "mMatchup has a lot more of the data we're looking for so let's dive in:"
   ]
  },
  {
   "cell_type": "code",
   "execution_count": null,
   "metadata": {},
   "outputs": [],
   "source": [
    "l0_matchup_keys = data_matchups.keys()\n",
    "print(l0_matchup_keys)"
   ]
  },
  {
   "cell_type": "markdown",
   "metadata": {},
   "source": [
    "Some of these keys are familiar. The bulk of the data we want is going to be in 'schedule':"
   ]
  },
  {
   "cell_type": "code",
   "execution_count": null,
   "metadata": {},
   "outputs": [],
   "source": [
    "a = data_matchups['status'] ##This has important metadata \n",
    "print(a)"
   ]
  },
  {
   "cell_type": "code",
   "execution_count": null,
   "metadata": {},
   "outputs": [],
   "source": [
    "t = data_matchups['schedule']\n",
    "print(t)"
   ]
  },
  {
   "cell_type": "code",
   "execution_count": null,
   "metadata": {},
   "outputs": [],
   "source": [
    "dict_eval(data_matchups, l0_matchup_keys)"
   ]
  },
  {
   "cell_type": "code",
   "execution_count": null,
   "metadata": {},
   "outputs": [],
   "source": [
    "matchup_schedule = data_matchups['schedule']\n",
    "\n",
    "for sch in matchup_schedule:\n",
    "    if isinstance(sch, dict):\n",
    "        sch_keys = sch.keys()\n",
    "        print(sch_keys)\n",
    "    elif isinstance(sch, list):\n",
    "        print(sch)\n",
    "    else:\n",
    "        print(sch)\n",
    "\n"
   ]
  },
  {
   "cell_type": "code",
   "execution_count": null,
   "metadata": {},
   "outputs": [],
   "source": [
    "for sch in matchup_schedule:\n",
    "    sch_keys = sch.keys()\n",
    "    dict_eval(sch, sch_keys)\n",
    "    \n",
    "    \n",
    "        "
   ]
  },
  {
   "cell_type": "code",
   "execution_count": null,
   "metadata": {},
   "outputs": [],
   "source": [
    "for sch in matchup_schedule :\n",
    "    winner = sch['winner'] #HOME/AWAY/!UNDECIDED / TODO:ties??\n",
    "    if winner == 'UNDECIDED':\n",
    "        next\n",
    "    else:\n",
    "        game_id = sch['id']\n",
    "        matchup_period_id = sch['matchupPeriodId']\n",
    "        away = sch['away']\n",
    "        away_team = away['teamId']\n",
    "        away_cumulative_score = away['cumulativeScore']\n",
    "        away_speriod_score = away['pointsByScoringPeriod']\n",
    "        away_total_score = away['totalPoints']\n",
    "        \n",
    "        home = sch['home']\n",
    "        home_team = home['teamId']\n",
    "        home_cumulative_score = home['cumulativeScore']\n",
    "        home_speriod_score = home['pointsByScoringPeriod']\n",
    "        home_total_score = home['totalPoints']\n",
    "        \n",
    "        \n",
    "        \n",
    "        "
   ]
  },
  {
   "cell_type": "code",
   "execution_count": null,
   "metadata": {},
   "outputs": [],
   "source": [
    "matchup_teams = data_matchups['teams']\n",
    "\n",
    "for mteam in matchup_teams:\n",
    "    \n",
    "    \n",
    "    if isinstance(team, dict):\n",
    "        mteam_keys = mteam.keys()\n",
    "        print(mteam_keys)\n",
    "    elif isinstance(team, list):\n",
    "        print(team)\n",
    "    else:\n",
    "        print(team)\n",
    "\n",
    "\n",
    "\n"
   ]
  },
  {
   "cell_type": "code",
   "execution_count": null,
   "metadata": {},
   "outputs": [],
   "source": [
    "for mteam in matchup_teams:\n",
    "    roster = mteam['roster']\n",
    "    print(roster.keys())"
   ]
  },
  {
   "cell_type": "code",
   "execution_count": null,
   "metadata": {},
   "outputs": [],
   "source": [
    "for mteam in matchup_teams:\n",
    "    x = mteam['roster']['entries']\n",
    "    for x in x:\n",
    "        print(x.keys())"
   ]
  },
  {
   "cell_type": "code",
   "execution_count": null,
   "metadata": {},
   "outputs": [],
   "source": [
    "for mteam in matchup_teams:\n",
    "    x = mteam['roster']['appliedStatTotal']\n",
    "    print(x)"
   ]
  },
  {
   "cell_type": "code",
   "execution_count": null,
   "metadata": {},
   "outputs": [],
   "source": [
    "POSITION_MAP = {\n",
    "    0: 'QB',\n",
    "    1: 'TQB',\n",
    "    2: 'RB',\n",
    "    3: 'RB/WR',\n",
    "    4: 'WR',\n",
    "    5: 'WR/TE',\n",
    "    6: 'TE',\n",
    "    7: 'OP',\n",
    "    8: 'DT',\n",
    "    9: 'DE',\n",
    "    10: 'LB',\n",
    "    11: 'DL',\n",
    "    12: 'CB',\n",
    "    13: 'S',\n",
    "    14: 'DB',\n",
    "    15: 'DP',\n",
    "    16: 'D/ST',\n",
    "    17: 'K',\n",
    "    18: 'P',\n",
    "    19: 'HC',\n",
    "    20: 'BE',\n",
    "    21: 'IR',\n",
    "    22: '',\n",
    "    23: 'RB/WR/TE',\n",
    "    24: 'ER',\n",
    "    25: 'Rookie',\n",
    "    'QB': 0,\n",
    "    'RB': 2,\n",
    "    'WR': 4,\n",
    "    'TE': 6,\n",
    "    'D/ST': 16,\n",
    "    'K': 17,\n",
    "    'FLEX': 23\n",
    "}\n",
    "\n",
    "PRO_TEAM_MAP = {\n",
    "    0 : 'None',\n",
    "    1 : 'ATL',\n",
    "    2 : 'BUF',\n",
    "    3 : 'CHI',\n",
    "    4 : 'CIN',\n",
    "    5 : 'CLE',\n",
    "    6 : 'DAL',\n",
    "    7 : 'DEN',\n",
    "    8 : 'DET',\n",
    "    9 : 'GB',\n",
    "    10: 'TEN',\n",
    "    11: 'IND',\n",
    "    12: 'KC',\n",
    "    13: 'OAK',\n",
    "    14: 'LAR',\n",
    "    15: 'MIA',\n",
    "    16: 'MIN',\n",
    "    17: 'NE',\n",
    "    18: 'NO',\n",
    "    19: 'NYG',\n",
    "    20: 'NYJ',\n",
    "    21: 'PHI',\n",
    "    22: 'ARI',\n",
    "    23: 'PIT',\n",
    "    24: 'LAC',\n",
    "    25: 'SF',\n",
    "    26: 'SEA',\n",
    "    27: 'TB',\n",
    "    28: 'WSH',\n",
    "    29: 'CAR',\n",
    "    30: 'JAX',\n",
    "    33: 'BAL',\n",
    "    34: 'HOU'\n",
    "}\n",
    "\n",
    "ACTIVITY_MAP = {\n",
    "    178: 'ADDED',\n",
    "    180: 'ADDED',\n",
    "    179: 'DROPPED',\n",
    "    181: 'DROPPED',\n",
    "    239: 'DROPPED',\n",
    "    244: 'TRADED'\n",
    "}"
   ]
  },
  {
   "cell_type": "code",
   "execution_count": null,
   "metadata": {},
   "outputs": [],
   "source": [
    "views = ['mTeam', 'mTeam', 'mRoster', 'mSettings', 'players_wl', 'mDraftDetail', 'proTeamSchedules_wl', 'mPositionalRatings']\n",
    "\n",
    "scoring_period_id = 'scoringPeriodId'"
   ]
  }
 ],
 "metadata": {
  "kernelspec": {
   "display_name": "PY3_HR",
   "language": "python",
   "name": "hackerrank"
  },
  "language_info": {
   "codemirror_mode": {
    "name": "ipython",
    "version": 3
   },
   "file_extension": ".py",
   "mimetype": "text/x-python",
   "name": "python",
   "nbconvert_exporter": "python",
   "pygments_lexer": "ipython3",
   "version": "3.7.0"
  }
 },
 "nbformat": 4,
 "nbformat_minor": 2
}
